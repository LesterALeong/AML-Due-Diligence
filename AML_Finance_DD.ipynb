{
 "cells": [
  {
   "cell_type": "code",
   "execution_count": 1,
   "metadata": {},
   "outputs": [],
   "source": [
    "import pandas as pd\n",
    "import numpy as np\n",
    "from sklearn.datasets import load_iris\n",
    "import matplotlib.pyplot as plt\n",
    "import seaborn as sns\n",
    "\n",
    "from google import google\n",
    "\n",
    "from urllib.request import urlopen\n",
    "from bs4 import BeautifulSoup as bs\n",
    "\n",
    "from newspaper import Article\n",
    "\n",
    "import re\n",
    "\n",
    "import warnings\n",
    "warnings.filterwarnings('ignore')"
   ]
  },
  {
   "cell_type": "markdown",
   "metadata": {},
   "source": [
    "![](https://amlpartners.com/wp-content/uploads/2018/09/identity-art_shutterstock_small_lowres.png)"
   ]
  },
  {
   "cell_type": "raw",
   "metadata": {},
   "source": [
    "Example list of negative news search items:\n",
    "fraud | fraudulence | cheating | swindling | embezzlement| deceit| deception|double-dealing| chicanery|evasion| illegal| offshore| money laundering| unlawful| illicit| illegitimate|criminal| felonious | gulity"
   ]
  },
  {
   "cell_type": "code",
   "execution_count": 2,
   "metadata": {},
   "outputs": [],
   "source": [
    "def aml_func():\n",
    "    \n",
    "    num_page = 1\n",
    "    \n",
    "    x = input('Type the person you want to do the due dilience on:')\n",
    "    y = input('Type all the keywords separated by | you want to conduct the search for')\n",
    "\n",
    "    listofbw = y.split('|')\n",
    "    \n",
    "    # our search query\n",
    "    search_results = google.search('\"\"\"('+ y +') ('+ x +')\"\"\"',num_page)\n",
    "    \n",
    "    try:\n",
    "        link = []\n",
    "        description = []\n",
    "        summary = []\n",
    "        keywords = []\n",
    "        for x in search_results:\n",
    "            link.append(x.link)\n",
    "            description.append(x.description)\n",
    "            \n",
    "            article = Article(x.link)\n",
    "            article.download()\n",
    "            article.parse()\n",
    "            article.nlp()\n",
    "\n",
    "            keywords.append(\" & \".join(article.keywords))\n",
    "            summary.append(article.summary)\n",
    "\n",
    "    except:\n",
    "        pass\n",
    "        \n",
    "    aml = pd.DataFrame()\n",
    "    aml['Website'] = link\n",
    "    aml['Description'] = description\n",
    "    aml['Keywords'] = keywords\n",
    "    aml['Summary'] = summary\n",
    "    \n",
    "    aml_func.aml = aml\n",
    "    return aml"
   ]
  },
  {
   "cell_type": "code",
   "execution_count": 3,
   "metadata": {
    "scrolled": true
   },
   "outputs": [
    {
     "name": "stdout",
     "output_type": "stream",
     "text": [
      "Type the person you want to do the due dilience on:Donald Trump\n",
      "Type all the keywords separated by | you want to conduct the search forfraud | fraudulence | cheating | swindling | embezzlement| deceit| deception|double-dealing| chicanery|evasion| illegal| offshore| money laundering| unlawful| illicit| illegitimate|criminal| felonious | gulity\n"
     ]
    },
    {
     "data": {
      "text/html": [
       "<div>\n",
       "<style scoped>\n",
       "    .dataframe tbody tr th:only-of-type {\n",
       "        vertical-align: middle;\n",
       "    }\n",
       "\n",
       "    .dataframe tbody tr th {\n",
       "        vertical-align: top;\n",
       "    }\n",
       "\n",
       "    .dataframe thead th {\n",
       "        text-align: right;\n",
       "    }\n",
       "</style>\n",
       "<table border=\"1\" class=\"dataframe\">\n",
       "  <thead>\n",
       "    <tr style=\"text-align: right;\">\n",
       "      <th></th>\n",
       "      <th>Website</th>\n",
       "      <th>Description</th>\n",
       "      <th>Keywords</th>\n",
       "      <th>Summary</th>\n",
       "    </tr>\n",
       "  </thead>\n",
       "  <tbody>\n",
       "    <tr>\n",
       "      <th>0</th>\n",
       "      <td>https://www.cnbc.com/2018/09/12/new-york-attor...</td>\n",
       "      <td>Sep 12, 2018 - \"We are talking about tenant ha...</td>\n",
       "      <td>candidates &amp; york &amp; violations &amp; number &amp; pres...</td>\n",
       "      <td>The state sued Trump University in 2013 for de...</td>\n",
       "    </tr>\n",
       "    <tr>\n",
       "      <th>1</th>\n",
       "      <td>https://www.quora.com/When-thinking-of-the-Tru...</td>\n",
       "      <td>Russian Lawyer, Trump Tower, Obstruction of Ju...</td>\n",
       "      <td>marla &amp; reprehensible &amp; maples &amp; young &amp; inner...</td>\n",
       "      <td>She is young and as the child of Marla Maples ...</td>\n",
       "    </tr>\n",
       "    <tr>\n",
       "      <th>2</th>\n",
       "      <td>https://uk.finance.yahoo.com/news/democratic-c...</td>\n",
       "      <td>Sep 12, 2018 - The attorney general position i...</td>\n",
       "      <td>candidates &amp; york &amp; james &amp; president &amp; law &amp; ...</td>\n",
       "      <td>The attorney general position in New York pres...</td>\n",
       "    </tr>\n",
       "  </tbody>\n",
       "</table>\n",
       "</div>"
      ],
      "text/plain": [
       "                                             Website  \\\n",
       "0  https://www.cnbc.com/2018/09/12/new-york-attor...   \n",
       "1  https://www.quora.com/When-thinking-of-the-Tru...   \n",
       "2  https://uk.finance.yahoo.com/news/democratic-c...   \n",
       "\n",
       "                                         Description  \\\n",
       "0  Sep 12, 2018 - \"We are talking about tenant ha...   \n",
       "1  Russian Lawyer, Trump Tower, Obstruction of Ju...   \n",
       "2  Sep 12, 2018 - The attorney general position i...   \n",
       "\n",
       "                                            Keywords  \\\n",
       "0  candidates & york & violations & number & pres...   \n",
       "1  marla & reprehensible & maples & young & inner...   \n",
       "2  candidates & york & james & president & law & ...   \n",
       "\n",
       "                                             Summary  \n",
       "0  The state sued Trump University in 2013 for de...  \n",
       "1  She is young and as the child of Marla Maples ...  \n",
       "2  The attorney general position in New York pres...  "
      ]
     },
     "execution_count": 3,
     "metadata": {},
     "output_type": "execute_result"
    }
   ],
   "source": [
    "aml_func()"
   ]
  },
  {
   "cell_type": "code",
   "execution_count": 6,
   "metadata": {},
   "outputs": [
    {
     "data": {
      "text/plain": [
       "'https://www.cnbc.com/2018/09/12/new-york-attorney-general-candidates-pledge-to-go-after-trump.html'"
      ]
     },
     "execution_count": 6,
     "metadata": {},
     "output_type": "execute_result"
    }
   ],
   "source": [
    "aml_func.aml['Website'][0]"
   ]
  },
  {
   "cell_type": "code",
   "execution_count": 7,
   "metadata": {},
   "outputs": [],
   "source": [
    "save_file = (aml_func.aml)\n",
    "save_file.to_csv('Google Due Diligence Summary.csv')\n",
    "#Download Google due diligence search for negative news to Word Document"
   ]
  },
  {
   "cell_type": "code",
   "execution_count": null,
   "metadata": {},
   "outputs": [],
   "source": []
  }
 ],
 "metadata": {
  "kernelspec": {
   "display_name": "Python 3",
   "language": "python",
   "name": "python3"
  },
  "language_info": {
   "codemirror_mode": {
    "name": "ipython",
    "version": 3
   },
   "file_extension": ".py",
   "mimetype": "text/x-python",
   "name": "python",
   "nbconvert_exporter": "python",
   "pygments_lexer": "ipython3",
   "version": "3.6.5"
  }
 },
 "nbformat": 4,
 "nbformat_minor": 2
}
